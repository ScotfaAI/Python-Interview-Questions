{
 "cells": [
  {
   "cell_type": "markdown",
   "id": "02ff77ec",
   "metadata": {},
   "source": [
    "# Interview questions\n",
    "https://medium.com/@nikitasilaparasetty/python-interview-coding-questions-with-solutions-for-beginners-7f6d782defac"
   ]
  },
  {
   "cell_type": "markdown",
   "id": "a4732bf2",
   "metadata": {},
   "source": [
    "## Pallindrome"
   ]
  },
  {
   "cell_type": "code",
   "execution_count": 18,
   "id": "f7594fd9",
   "metadata": {},
   "outputs": [
    {
     "name": "stdout",
     "output_type": "stream",
     "text": [
      "True\n",
      "False\n"
     ]
    }
   ],
   "source": [
    "input_string = \"cummuc\"\n",
    "false_string = \"thiswontwork\"\n",
    "\n",
    "def pallindrome(input_string):\n",
    "\n",
    "    if len(input_string) < 2:\n",
    "        return True\n",
    "    \n",
    "    firstchar = input_string[0]\n",
    "    lastchar = input_string[-1]\n",
    "\n",
    "    if firstchar != lastchar:\n",
    "        return False\n",
    "    \n",
    "    \n",
    "    return pallindrome(input_string[1:-1])\n",
    "    \n",
    "print(pallindrome(input_string))\n",
    "print(pallindrome(false_string))\n",
    "input_string[::-1] == input_string"
   ]
  },
  {
   "cell_type": "markdown",
   "id": "b6d5b074",
   "metadata": {},
   "source": [
    "## Factorial of a number"
   ]
  },
  {
   "cell_type": "code",
   "execution_count": 25,
   "id": "c1f46b2b",
   "metadata": {},
   "outputs": [],
   "source": [
    "def factorial(num):\n",
    "    vals = list(range(1,num+1))\n",
    "    total = 1\n",
    "    for val in vals:\n",
    "        total *= val\n",
    "        \n",
    "    return total"
   ]
  },
  {
   "cell_type": "code",
   "execution_count": 33,
   "id": "df3cf79f",
   "metadata": {},
   "outputs": [
    {
     "data": {
      "text/plain": [
       "1"
      ]
     },
     "execution_count": 33,
     "metadata": {},
     "output_type": "execute_result"
    }
   ],
   "source": [
    "factorial(0)"
   ]
  },
  {
   "cell_type": "markdown",
   "id": "2b9420ec",
   "metadata": {},
   "source": [
    "This wont work for case 0, their solution uses recursion."
   ]
  },
  {
   "cell_type": "code",
   "execution_count": 34,
   "id": "9f443562",
   "metadata": {},
   "outputs": [
    {
     "ename": "TypeError",
     "evalue": "reduce() of empty sequence with no initial value",
     "output_type": "error",
     "traceback": [
      "\u001b[0;31m---------------------------------------------------------------------------\u001b[0m",
      "\u001b[0;31mTypeError\u001b[0m                                 Traceback (most recent call last)",
      "\u001b[0;32m/var/folders/bc/3d9zy0_13wvgh2zl4n2kwn0r0000gp/T/ipykernel_10741/1420490205.py\u001b[0m in \u001b[0;36m<module>\u001b[0;34m\u001b[0m\n\u001b[1;32m      2\u001b[0m \u001b[0;32mimport\u001b[0m \u001b[0mfunctools\u001b[0m\u001b[0;34m\u001b[0m\u001b[0;34m\u001b[0m\u001b[0m\n\u001b[1;32m      3\u001b[0m \u001b[0;34m\u001b[0m\u001b[0m\n\u001b[0;32m----> 4\u001b[0;31m \u001b[0mfunctools\u001b[0m\u001b[0;34m.\u001b[0m\u001b[0mreduce\u001b[0m\u001b[0;34m(\u001b[0m\u001b[0;32mlambda\u001b[0m \u001b[0ma\u001b[0m\u001b[0;34m,\u001b[0m \u001b[0mb\u001b[0m\u001b[0;34m:\u001b[0m \u001b[0ma\u001b[0m\u001b[0;34m*\u001b[0m\u001b[0mb\u001b[0m\u001b[0;34m,\u001b[0m\u001b[0mlist\u001b[0m\u001b[0;34m(\u001b[0m\u001b[0mrange\u001b[0m\u001b[0;34m(\u001b[0m\u001b[0;36m1\u001b[0m\u001b[0;34m,\u001b[0m\u001b[0mnum\u001b[0m\u001b[0;34m+\u001b[0m\u001b[0;36m1\u001b[0m\u001b[0;34m)\u001b[0m\u001b[0;34m)\u001b[0m\u001b[0;34m)\u001b[0m\u001b[0;34m\u001b[0m\u001b[0;34m\u001b[0m\u001b[0m\n\u001b[0m",
      "\u001b[0;31mTypeError\u001b[0m: reduce() of empty sequence with no initial value"
     ]
    }
   ],
   "source": [
    "\n",
    "num = 0\n",
    "import functools\n",
    "\n",
    "functools.reduce(lambda a, b: a*b,list(range(1,num+1)))"
   ]
  },
  {
   "cell_type": "code",
   "execution_count": 31,
   "id": "656791e0",
   "metadata": {},
   "outputs": [],
   "source": [
    "add = lambda a, b: a+b"
   ]
  },
  {
   "cell_type": "code",
   "execution_count": 32,
   "id": "2f89ac94",
   "metadata": {},
   "outputs": [
    {
     "data": {
      "text/plain": [
       "3"
      ]
     },
     "execution_count": 32,
     "metadata": {},
     "output_type": "execute_result"
    }
   ],
   "source": [
    "add(1,2)"
   ]
  },
  {
   "cell_type": "code",
   "execution_count": 38,
   "id": "ba699f68",
   "metadata": {},
   "outputs": [
    {
     "data": {
      "text/plain": [
       "[4, 3, 2, 1]"
      ]
     },
     "execution_count": 38,
     "metadata": {},
     "output_type": "execute_result"
    }
   ],
   "source": [
    "num = 4\n",
    "list(range(1,num+1))"
   ]
  },
  {
   "cell_type": "markdown",
   "id": "3ca9f3bb",
   "metadata": {},
   "source": [
    "## Get the frequency of each element in a list"
   ]
  },
  {
   "cell_type": "code",
   "execution_count": 43,
   "id": "2f3724e2",
   "metadata": {},
   "outputs": [
    {
     "data": {
      "text/plain": [
       "{1: 3, 'a': 2, 'aa': 1, 2: 1, 3: 1}"
      ]
     },
     "execution_count": 43,
     "metadata": {},
     "output_type": "execute_result"
    }
   ],
   "source": [
    "input_list = [1,\"a\", \"aa\", \"a\",1,1,2,3]\n",
    "def getfreq(input_list):\n",
    "    outdict = {}\n",
    "    for item in input_list:\n",
    "        if item in outdict.keys():\n",
    "            outdict[item] +=1\n",
    "        else:\n",
    "            outdict[item] = 1\n",
    "            \n",
    "    return(outdict)\n",
    "\n",
    "getfreq(input_list)"
   ]
  },
  {
   "cell_type": "markdown",
   "id": "fce80b14",
   "metadata": {},
   "source": [
    "## Check if a number is prime"
   ]
  },
  {
   "cell_type": "code",
   "execution_count": 59,
   "id": "ee411487",
   "metadata": {},
   "outputs": [
    {
     "name": "stdout",
     "output_type": "stream",
     "text": [
      "Is 13 prime: True\n",
      "Is 4 prime: False\n",
      "Is 1 prime: False\n"
     ]
    }
   ],
   "source": [
    "import math\n",
    "\n",
    "\n",
    "def is_prime(input_num):\n",
    "    if input_num <2:\n",
    "        return False\n",
    "    \n",
    "    divisible_options = list(range(2, math.floor(input_num/2)+1))\n",
    "    \n",
    "    for val in divisible_options:\n",
    "        if input_num % val == 0:\n",
    "            return False\n",
    "    \n",
    "    return True\n",
    "\n",
    "input_num = 13\n",
    "print(f\"Is {input_num} prime: \" + str(is_prime(input_num)))\n",
    "input_num = 4\n",
    "print(f\"Is {input_num} prime: \" + str(is_prime(input_num)))\n",
    "input_num = 1\n",
    "print(f\"Is {input_num} prime: \" + str(is_prime(input_num)))"
   ]
  },
  {
   "cell_type": "code",
   "execution_count": null,
   "id": "593dd2fc",
   "metadata": {},
   "outputs": [],
   "source": []
  }
 ],
 "metadata": {
  "kernelspec": {
   "display_name": "Python 3 (ipykernel)",
   "language": "python",
   "name": "python3"
  },
  "language_info": {
   "codemirror_mode": {
    "name": "ipython",
    "version": 3
   },
   "file_extension": ".py",
   "mimetype": "text/x-python",
   "name": "python",
   "nbconvert_exporter": "python",
   "pygments_lexer": "ipython3",
   "version": "3.9.13"
  }
 },
 "nbformat": 4,
 "nbformat_minor": 5
}
